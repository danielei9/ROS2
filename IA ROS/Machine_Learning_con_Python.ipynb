{
  "nbformat": 4,
  "nbformat_minor": 0,
  "metadata": {
    "colab": {
      "name": "Machine Learning con Python.ipynb",
      "provenance": [],
      "toc_visible": true
    },
    "kernelspec": {
      "name": "python3",
      "display_name": "Python 3"
    }
  },
  "cells": [
    {
      "cell_type": "markdown",
      "metadata": {
        "id": "fh72ca5q0CAB"
      },
      "source": [
        "# 1 El algoritmo K-vecinos (K-nn)"
      ]
    },
    {
      "cell_type": "markdown",
      "metadata": {
        "id": "koglQxVg0Sx6"
      },
      "source": [
        "Existen multitud de técnicas y algoritmos que podemos utilizar en Machine Learning, como clasificadores Bayesianos o árboles de decisión. Una de las técnicas más sencillas podría ser el método de los **K-vecinos** (o **K-nn** del inglés K-nearest neighbors). La idea de este algoritmo es que la etiqueta de clase que se asigna a un nueva muestra depende de los **k** ejemplos de entrenamiento que son más similares ésta. Esto es, se asigna la etiqueta de clase que más se repite en las k muestras más próximas a la nueva.\n",
        "\n",
        "Si ejecutas el siguiente código podrás ver en una gráfica cómo se sitúan muestras rojas y azules. Teniendo en cuenta un valor de **k=1**, puedes ver que la muestra verde se clasificaría como azul. Para evitar empates, normalmente utilizaremos un número impar para el valor de k."
      ]
    },
    {
      "cell_type": "code",
      "metadata": {
        "id": "5wA24Ow1z7wR",
        "colab": {
          "base_uri": "https://localhost:8080/",
          "height": 366
        },
        "outputId": "a1573877-6651-4f49-ae2c-e4761658644e"
      },
      "source": [
        "import matplotlib.pyplot as plot #si no te funciona en tu entorno, haz un pip install matplotlib\n",
        "\n",
        "red_points = [(1,1), (1,2), (2,4), (2,5), (3,1), (3,3), (4,2), (4,5), (4,7), (5,2), (5,3), (6,3), (7,1), (7,4)]\n",
        "blue_points = [(1,4), (1,7), (2,2), (2,7), (2,8), (3,4), (3,6), (4,4), (4,6), (5,4), (5,5), (5,8), (6,4), (6,5), (7,5)]\n",
        "\n",
        "red_x = [i[0] for i in red_points]\n",
        "red_y = [i[1] for i in red_points]\n",
        "\n",
        "blue_x = [i[0] for i in blue_points]\n",
        "blue_y = [i[1] for i in blue_points]\n",
        "\n",
        "fig=plot.figure()\n",
        "ax=fig.add_axes([0,0,1,1])\n",
        "ax.scatter(red_x, red_y, color='r')\n",
        "ax.scatter(blue_x, blue_y, color='b')\n",
        "ax.scatter([6], [6], color='g', marker=\"x\")\n",
        "ax.set_xlabel('x coordinates')\n",
        "ax.set_ylabel('y coordinates')\n",
        "ax.set_title('Samples')\n",
        "plot.show()"
      ],
      "execution_count": null,
      "outputs": [
        {
          "output_type": "display_data",
          "data": {
            "image/png": "[encoded data removed]",
            "text/plain": [
              "<Figure size 432x288 with 1 Axes>"
            ]
          },
          "metadata": {
            "needs_background": "light"
          }
        }
      ]
    },
    {
      "cell_type": "markdown",
      "metadata": {
        "id": "eIbwm67D1rWM"
      },
      "source": [
        "El concepto de cercanía entre dos muestras *p* y *q*, cada una de ellas representada como *n* atributos, lo podemos definir como la distancia euclidea entre ambas muestras:\n",
        "\n",
        "$$d(p,q) = \\sqrt{(p_1 - q_1)^2 + (p_2 - q_2)^2 + \\ldots + (p_n - q_n)^2}$$\n",
        "\n",
        "A continuación, vamos a implementar el algoritmo K-nn desde cero, utilizando todos los conocimientos que ya tenemos de Python. Para ello, los pasos que vamos a seguir son los siguientes:\n",
        "\n",
        "1.   Cargar las muestras\n",
        "2.   Convertir los atributos a float\n",
        "3.   Codificar los nombres de las clases en valores enteros\n",
        "4.   Calcular la distancia euclidea\n",
        "5.   Obtener los vecinos más cercanos utilizando la distancia euclidea\n",
        "6.   Realizar predicciones\n",
        "\n"
      ]
    },
    {
      "cell_type": "markdown",
      "metadata": {
        "id": "rjai2X3H3f7N"
      },
      "source": [
        "## 1.1 Cargando el dataset de muestras"
      ]
    },
    {
      "cell_type": "markdown",
      "metadata": {
        "id": "1iBfqM_4IN-0"
      },
      "source": [
        "El primer paso será implementar la función **load_file** que se encargará de leer los datos de un fichero (en formato csv) y guardarlos en una lista de muestras. Cada muestra estará representada como una lista de atributos, siendo el último de ellos, el nombre de la clase. Como resultado, debemos tener una lista de muestras, donde cada muestra tendrá la forma ['1', '1', 'red']. En primer lugar, **ejecuta el siguiente código** para clonar el repositorio donde está el fichero. A continuación, **completa el código** de la función **load_file**."
      ]
    },
    {
      "cell_type": "code",
      "metadata": {
        "id": "T6BYeO7OOBi4"
      },
      "source": [
        "!git clone https://gitlab.com/ia_gti/machine_learning_python.git"
      ],
      "execution_count": null,
      "outputs": []
    },
    {
      "cell_type": "code",
      "metadata": {
        "id": "djmvaWZR4cwj"
      },
      "source": [
        "from csv import reader\n",
        "\n",
        "def load_file(filename):\n",
        "  \"\"\" Reads a file and stores each line as a sample in a list\n",
        "  Args: \n",
        "    filename: name of the dataset file\n",
        "  Returns:\n",
        "    list of samples, where each sample is: e.g. ['1', '1', 'red']\n",
        "  \"\"\"\n",
        "  #TODO\n",
        "\n",
        "#1. Load dataset\n",
        "filename = 'sample_data//colours.csv'\n",
        "dataset = load_file(filename)\n",
        "print(\"1: \"+str(dataset[0]))\n",
        "\n",
        "print('Se ha cargado el fichero '+ filename+ ' con ', len(dataset),' líneas (muestras) y ', len(dataset[0]), ' columnas (atributos por muestra)')\n"
      ],
      "execution_count": null,
      "outputs": []
    },
    {
      "cell_type": "markdown",
      "metadata": {
        "id": "sQJx94xj5a4w"
      },
      "source": [
        "## 1.2 Convirtiendo los atributos a float"
      ]
    },
    {
      "cell_type": "markdown",
      "metadata": {
        "id": "4PqUi558JaVf"
      },
      "source": [
        "El siguiente paso será implementar la función **convert_str_to_float**, que se encargará de convertir los atributos de la muestra a floats (excepto el nombre de clase, esto es, las columnas 0 y 1). Esta función recibirá la lista de muestras y una columna a convertir. Como resultado, cada muestra tendrá la forma [1.0, 1.0, 'red']. Utiliza la función **strip** para eliminar las comillas:\n",
        "https://www.programiz.com/python-programming/methods/string/strip"
      ]
    },
    {
      "cell_type": "code",
      "metadata": {
        "id": "xTrP0sZOApsn"
      },
      "source": [
        "ATTRIBUTES = 2\n",
        "\n",
        "def convert_str_to_float(dataset, column):\n",
        "  \"\"\" Converts a string data to float\n",
        "  Args: \n",
        "    dataset: list of samples, where each sample is: e.g. ['1', '1', 'red']\n",
        "    column: column number\n",
        "  \"\"\"\n",
        "  #TODO\n",
        "\n",
        "#2. Convert numerical attributes to floats\n",
        "for i in range(ATTRIBUTES): #i coge valores de 0 y 1\n",
        "  convert_str_to_float(dataset, i)    \n",
        "print(\"2: \"+str(dataset[0]))\n"
      ],
      "execution_count": null,
      "outputs": []
    },
    {
      "cell_type": "markdown",
      "metadata": {
        "id": "JYhf27AWFu3C"
      },
      "source": [
        "## 1.3 Codificando el nombre de clase a un valor entero"
      ]
    },
    {
      "cell_type": "markdown",
      "metadata": {
        "id": "ehEnjQtTJ3qs"
      },
      "source": [
        "A continuación, codificaremos el nombre de las clases a un valor numérico mediante la función **code_str_to_int**. Cuando realizamos predicciones, los valores de clase se suelen representar como valores numéricos (p.e. 0, 1, etc.) en vez de strings (p.e. 'red', 'blue', etc.).\n",
        "\n",
        "Esta función recibirá la lista de muestras con la forma [1.0, 1.0, 'red'] y una columna a convertir (la columna de la clase). Lo que hará esta función será asignar un valor numérico a cada clase y modificar cada muestra para que tenga la forma [1.0, 1.0, 0]. Además, deberá devolver un diccionario con pares clave-valor, donde la clave será el nombre de la clase y el valor su código. En nuestro caso, será {'red': 0, 'blue': 1}. \n",
        "\n",
        "Realiza una implementación genérica para cualquier número y nombre de clases."
      ]
    },
    {
      "cell_type": "code",
      "metadata": {
        "id": "N0PvujUsA0a_"
      },
      "source": [
        "def code_str_to_int(dataset, column):\n",
        "  \"\"\" Converts a string data to int\n",
        "  Args: \n",
        "    dataset: list of samples, where each sample is: e.g. [1.0, 1.0, 'red']\n",
        "    column: column number\n",
        "  Returns:\n",
        "    dictionary of class-int_code, such as { 'red':0, 'blue':1 }\n",
        "  \"\"\"\n",
        "  #TODO\n",
        "\n",
        "#3. Convert class attribute to integer\n",
        "lookup = code_str_to_int(dataset, len(dataset[0])-1)\n",
        "print(\"3: \"+str(lookup))"
      ],
      "execution_count": null,
      "outputs": []
    },
    {
      "cell_type": "markdown",
      "metadata": {
        "id": "5f_MaNAKF5xa"
      },
      "source": [
        "## 1.4 Calculando la distancia entre dos muestras"
      ]
    },
    {
      "cell_type": "markdown",
      "metadata": {
        "id": "wrv3nYBcLIfu"
      },
      "source": [
        "Llegados a este punto, vamos a implementar la función **euclidean_distance** que recibirá dos muestras y devolverá la distancia euclídea entre ellas. Recuerda que la distancia euclídea se calcula según la siguiente fórmula:\n",
        "\n",
        "$$d(p,q) = \\sqrt{(p_1 - q_1)^2 + (p_2 - q_2)^2 + \\ldots + (p_n - q_n)^2}$$\n",
        "\n",
        "Realiza una implementación genérica para cualquier número de atributos."
      ]
    },
    {
      "cell_type": "code",
      "metadata": {
        "id": "SnFEbRjNA8VP"
      },
      "source": [
        "from math import sqrt\n",
        "\n",
        "def euclidean_distance(sample, dataset_sample):\n",
        "  \"\"\" Calculates the Euclidean distance between two samples (vectors)\n",
        "  Args: \n",
        "    sample: sample to classify, such as [4, 3]\n",
        "    dataset_sample: sample of the dataset, such as [1.0, 1.0, 1]\n",
        "  Returns:\n",
        "    euclidean_distance between both samples, such as 3.61\n",
        "  \"\"\"\n",
        "  #TODO\n",
        "\n",
        "# sample to classify\n",
        "sample = (4, 3)\n",
        "\n",
        "for row in dataset:\n",
        "\tdistance = euclidean_distance(sample, row)"
      ],
      "execution_count": null,
      "outputs": []
    },
    {
      "cell_type": "markdown",
      "metadata": {
        "id": "T42MgIb_GD0S"
      },
      "source": [
        "## 1.5 Encontrando los k-vecinos más silimares"
      ]
    },
    {
      "cell_type": "markdown",
      "metadata": {
        "id": "52FEpsc6LkXH"
      },
      "source": [
        "A continuación, implementaremos la función **get_neighbors**, la cual recibirá la lista de muestras (que llamaremos `train`), una muestra a clasificar y un número *k* y devolverá una lista con los *k* vecimos más similares a la muestra. Esta función tendrá que llamar a la función anterior **euclidean_distance** por cada muestra de entrenamiento:"
      ]
    },
    {
      "cell_type": "code",
      "metadata": {
        "id": "0thRMmtoByiJ"
      },
      "source": [
        "def get_neighbors(train, test, k):\n",
        "  \"\"\" Obtains the k most similar neighbors\n",
        "  Args: \n",
        "    train: list of samples\n",
        "    test: sample to classify\n",
        "    k: number of nearest neighbors\n",
        "  Returns:\n",
        "    list of the k nearest neighbors\n",
        "  \"\"\"\n",
        "  #TODO\n",
        "\n",
        "# define k parameter\n",
        "num_neighbors = 5\n",
        "\n",
        "# sample to classify\n",
        "sample = (6, 2)\n",
        "\n",
        "#5. Get k nearest neighbours using euclidean_distance function\n",
        "neighbors = get_neighbors(dataset, sample, num_neighbors)\n",
        "\n",
        "print(neighbors)"
      ],
      "execution_count": null,
      "outputs": []
    },
    {
      "cell_type": "markdown",
      "metadata": {
        "id": "IIeSrdrRGJ18"
      },
      "source": [
        "## 1.6 Realizando la predicción"
      ]
    },
    {
      "cell_type": "markdown",
      "metadata": {
        "id": "uivfbNH_MSFf"
      },
      "source": [
        "Finalmente, realizaremos la predicción mediante la función **predict_class**. Realmente, el código de esta función podría ir dentro de la función anterior, pero hemos preferido dejarlo separado. Básicamente, tendrá que calcular cuál es la clase más repetida a partir los *k-vecinos* más próximos que ha encontrado en la función anterior."
      ]
    },
    {
      "cell_type": "code",
      "metadata": {
        "id": "NM-WJSy9GSIs"
      },
      "source": [
        "def predict_class(neighbors, lookup):    \n",
        "  \"\"\" Obtains the predicted class for the test sample\n",
        "  Args:\n",
        "    neighbours: list of k nearest neighbors \n",
        "    lookup: dictionary of classes and int_code such as {'blue': 0, 'red': 1}\n",
        "  Returns:\n",
        "    name of the predicted class \n",
        "  \"\"\"\n",
        "  #TODO\n",
        "\n",
        "#6. Predict the class label\n",
        "label = predict_class(neighbors, lookup)\n",
        "print('Data=%s, Predicted: %s' % (sample, label))\n"
      ],
      "execution_count": null,
      "outputs": []
    },
    {
      "cell_type": "markdown",
      "metadata": {
        "id": "qqryWHHAHOls"
      },
      "source": [
        "## 1.7 Ejercicio"
      ]
    },
    {
      "cell_type": "markdown",
      "metadata": {
        "id": "okPvmVDRH3sr"
      },
      "source": [
        "Una vez tienes las funciones implementadas, genera un fichero .py (si no lo has hecho ya) y modifica las funciones para entrenar un modelo a partir del dataset de flores de iris. Quita 10 muestras y utilízalas para probar tu clasificador.\n",
        "\n",
        "Utiliza un fichero a parte que importe el paquete implementado y prueba su funcionamiento."
      ]
    },
    {
      "cell_type": "markdown",
      "metadata": {
        "id": "IWcD0XhntpwA"
      },
      "source": [
        "# 2 K-nn usando scikit-learn"
      ]
    },
    {
      "cell_type": "markdown",
      "metadata": {
        "id": "0RNM3qaLt0q3"
      },
      "source": [
        "Una vez has implementado el algoritmo K-nn desde 0, vamos a utilizar la librería **scikit-learn** que es una librería de Machine Learning para Python (https://scikit-learn.org/stable/). Esta librería nos ofrece muchas funcionalidades implementadas, de manera que podemos trabajar con distintos algoritmos de Machine Learning de manera sencilla. Si quieres trabajar en tu máquina, para agregarla en tu entorno virtual de py3env, puedes ejecutar el siguiente comando:\n",
        "```python\n",
        "pip install scikit-learn\n",
        "```\n",
        "\n",
        "Aunque utilizaremos esta librería más adelante (y también en otras asignaturas), a continuación tienes un ejemplo muy sencillo de cómo podemos utilizar el clasificador K-nn que tiene ya implementado:"
      ]
    },
    {
      "cell_type": "code",
      "metadata": {
        "colab": {
          "base_uri": "https://localhost:8080/"
        },
        "id": "OhMD5qDv6aWo",
        "outputId": "d62b2275-b9d1-4bd1-b554-7a0cd0135344"
      },
      "source": [
        "from sklearn.neighbors import KNeighborsClassifier\n",
        "\n",
        "X = [(1,1), (1,2), (2,4), (2,5), (3,1), (3,3), (4,2), (4,5), (4,7), (5,2), (5,3), (6,3), (7,1), (7,4), (1,4), (1,7), (2,2), (2,7), (2,8), (3,4), (3,6), (4,4), (4,6), (5,4), (5,5), (5,8), (6,4), (6,5), (7,5)]\n",
        "y = [0, 0, 0, 0, 0, 0, 0, 0, 0, 0, 0, 0, 0, 0, 1, 1, 1, 1, 1, 1, 1, 1, 1, 1, 1, 1, 1, 1, 1]\n",
        "\n",
        "# define k parameter\n",
        "k = 5\n",
        "\n",
        "neigh = KNeighborsClassifier(n_neighbors=k)\n",
        "neigh.fit(X, y)\n",
        "\n",
        "# sample to classify\n",
        "sample = (6, 2)\n",
        "\n",
        "prediction = neigh.predict([sample])\n",
        "print(prediction)"
      ],
      "execution_count": null,
      "outputs": [
        {
          "output_type": "stream",
          "text": [
            "[0]\n"
          ],
          "name": "stdout"
        }
      ]
    }
  ]
}