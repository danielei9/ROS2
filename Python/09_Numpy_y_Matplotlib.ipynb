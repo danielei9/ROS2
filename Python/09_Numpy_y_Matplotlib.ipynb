{
  "nbformat": 4,
  "nbformat_minor": 0,
  "metadata": {
    "colab": {
      "name": "09-Numpy y Matplotlib.ipynb",
      "provenance": [],
      "collapsed_sections": [],
      "toc_visible": true
    },
    "kernelspec": {
      "name": "python3",
      "display_name": "Python 3"
    }
  },
  "cells": [
    {
      "cell_type": "markdown",
      "source": [
        "**NOTA**: Si detectas algún error en este Colab, pon un mensaje en el foro para que lo podamos solucionar o envía un correo."
      ],
      "metadata": {
        "id": "C5R0PV_MaeoO"
      }
    },
    {
      "cell_type": "markdown",
      "metadata": {
        "id": "T2lOQrAIQEPk"
      },
      "source": [
        "# 1 Numpy"
      ]
    },
    {
      "cell_type": "markdown",
      "metadata": {
        "id": "cs2NiPTXQIyU"
      },
      "source": [
        "La librería **Numpy** es muy utilizada cuando necesitamos trabajar con arrays y matrices multidimensionales, ya que nos ofrece una gran cantidad de funciones para manipular estas estructuras de datos. En concreto, la librería **OpenCV** que utilizaremos para visión artificial, convierte a y desde arrays Numpy, por lo que vamos a aprender las funcionalidades principales de esta librería.\n",
        "\n",
        "Python realiza cálculos numéricos muy lentamente. Puedes intentar a implementar un programa que multiplique una matriz de 1000 x 1000 y medir el tiempo de cómputo en comparación con realizar la misma operación con Numpy.\n",
        "\n",
        "Si queremos trabajar con esta librería en nuestro entorno virtual, bastará con instalarla con el comando `pip install numpy`: https://numpy.org/. En nuestro caso, lo haremos en el entorno de **rosenv**.\n",
        "\n",
        "El objeto más importante de Numpy es el objeto **ndarray**. Este objeto, representa una matriz n-dimensional que describe una colección de elementos, los cuáles son **todos del mismo tipo** (a diferencia de una lista) y se pueden acceder mediante un índice (como una lista).\n"
      ]
    },
    {
      "cell_type": "markdown",
      "metadata": {
        "id": "BxMQ-4nXTcD1"
      },
      "source": [
        "## 1.1 Creación de arrays Numpy"
      ]
    },
    {
      "cell_type": "markdown",
      "metadata": {
        "id": "Be28h7tTTgoF"
      },
      "source": [
        "Numpy nos ofrece funciones para **crear** arrays. En este caso, lo primero que podemos probar es a crear varios tipos de arrays:\n",
        "* **empty**: crea un array sin inicializar con contenido aleatorio.\n",
        "* **zeros**: crea un array de 0's.\n",
        "* **ones**: crea un array de 1's.\n",
        "* **identity**: crea el array identidad.\n",
        "\n",
        "Estas funciones reciben la dimensión del array. Observa los siguientes ejemplos:"
      ]
    },
    {
      "cell_type": "code",
      "metadata": {
        "id": "9Ag2zXyiPVrX"
      },
      "source": [
        "import numpy as np\n",
        "\n",
        "a = np.empty(3) #una dimensión\n",
        "print(a)\n",
        "\n",
        "print(\"---------------\")\n",
        "a = np.zeros([3,3]) #dos dimensiones\n",
        "print(a)\n",
        "\n",
        "print(\"---------------\")\n",
        "a = np.ones(3)\n",
        "print(a)\n",
        "\n",
        "print(\"---------------\")\n",
        "a = np.identity(3)\n",
        "print(a)"
      ],
      "execution_count": null,
      "outputs": []
    },
    {
      "cell_type": "markdown",
      "metadata": {
        "id": "yH7AlIveWHt_"
      },
      "source": [
        "Otra manera de crear arrays Numpy es a **partir de una lista** que ya tengamos mediante la función **array**:"
      ]
    },
    {
      "cell_type": "code",
      "metadata": {
        "id": "4RCm_sD6Wo3n"
      },
      "source": [
        "lista = [1, 2, 3, 4, 5]\n",
        "a = np.array(lista)\n",
        "print(a)\n",
        "\n",
        "print(\"Matriz ---------------\")\n",
        "lista_bidimensional = [[1, 2, 3, 4, 5], [6, 7, 8, 9, 10]] #2 filas y 5 columnas\n",
        "a = np.array(lista_bidimensional)\n",
        "print(a)"
      ],
      "execution_count": null,
      "outputs": []
    },
    {
      "cell_type": "markdown",
      "metadata": {
        "id": "vnIqxqwlX_4H"
      },
      "source": [
        "Los elementos de un array numpy son todos del mismo tipo, que por defecto es coma flotante. Podemos especificar este tipo en la creación del array mediante **dtype**:"
      ]
    },
    {
      "cell_type": "code",
      "metadata": {
        "id": "kevwYPOAYdi3"
      },
      "source": [
        "np.ones(3, dtype=np.int64)"
      ],
      "execution_count": null,
      "outputs": []
    },
    {
      "cell_type": "markdown",
      "metadata": {
        "id": "PMRWTTblY0rK"
      },
      "source": [
        "Esto también nos permite **convertir** los datos de un array de un tipo a otro mediante distintas funciones de numpy (https://numpy.org/devdocs/user/basics.types.html). En el siguiente ejemplo, puedes ver cómo convertir un array de floats a enteros:"
      ]
    },
    {
      "cell_type": "code",
      "metadata": {
        "id": "PcK_8OCKY4uo"
      },
      "source": [
        "a = np.ones(3) #creamos un array de floats\n",
        "print(a)\n",
        "a = np.int32(a) #lo convertimos a int\n",
        "print(a)"
      ],
      "execution_count": null,
      "outputs": []
    },
    {
      "cell_type": "markdown",
      "metadata": {
        "id": "g7ps1xvfXRbl"
      },
      "source": [
        "Podemos **acceder** a una posición de un array mediante corchetes (igual que si fuese una lista). También podemos utilizar la función **item**. Observa el siguiente ejemplo:"
      ]
    },
    {
      "cell_type": "code",
      "metadata": {
        "id": "rKA_yMTaXavG"
      },
      "source": [
        "lista = [1, 2, 3, 4, 5]\n",
        "a = np.array(lista)\n",
        "print(a[3]) #el elemento de la posición 3\n",
        "\n",
        "print(\"Matriz ---------------\")\n",
        "lista_bidimensional = [[1, 2, 3, 4, 5], [6, 7, 8, 9, 10]]\n",
        "a = np.array(lista_bidimensional)\n",
        "print(a[1][3])\n",
        "print(a.item(1,3)) "
      ],
      "execution_count": null,
      "outputs": []
    },
    {
      "cell_type": "markdown",
      "metadata": {
        "id": "CdgxEQtNYbM_"
      },
      "source": [
        "Otra función para crear arrays es **arange**. Esta función recibe un valor entero y crea un array con un rango de valores hasta el número dado (lo que hace el **range**). Podemos utilizar también la función **shape** para comprobar las dimensiones del array. "
      ]
    },
    {
      "cell_type": "code",
      "metadata": {
        "id": "rd57HFy-YziC"
      },
      "source": [
        "a = np.arange(5)\n",
        "print(a)\n",
        "print(a.shape)"
      ],
      "execution_count": null,
      "outputs": []
    },
    {
      "cell_type": "markdown",
      "metadata": {
        "id": "Mf-orzikZXlP"
      },
      "source": [
        "Como no hay ningún valor después de la coma, esto significa que es un array **unidimensional**. Si queremos hacerlo bidimensional, podemos utilizar **reshape**:"
      ]
    },
    {
      "cell_type": "code",
      "metadata": {
        "id": "FU2Qtoe8bKrX"
      },
      "source": [
        "a = np.arange(12).reshape(3,4) #se crean 12 enteros y se convierten en una matriz de 3 filas y 4 columnas\n",
        "print(a)\n",
        "print(a.shape)"
      ],
      "execution_count": null,
      "outputs": []
    },
    {
      "cell_type": "markdown",
      "metadata": {
        "id": "5Ik9Cy85cpxq"
      },
      "source": [
        "En este caso, podemos utilizar la función **size** para ver cuántos elementos hay en total en el array:"
      ]
    },
    {
      "cell_type": "code",
      "metadata": {
        "id": "VMFPFD7EcuNf"
      },
      "source": [
        "print(a.size)"
      ],
      "execution_count": null,
      "outputs": []
    },
    {
      "cell_type": "markdown",
      "metadata": {
        "id": "3vCz82PWaWqu"
      },
      "source": [
        "Un array es mutable, lo que significa que podemos cambiar los valores del array una vez lo tenemos creado. Para modifiar un valor, podemos hacerlo de la misma manera que si queremos modificar el valor de una lista o bien, podemos hacerlo con la función **itemset**:"
      ]
    },
    {
      "cell_type": "code",
      "metadata": {
        "id": "qayJlLQjarvQ"
      },
      "source": [
        "a = np.arange(10)\n",
        "print(a)\n",
        "a[2] = -8\n",
        "print(a)\n",
        "a.itemset(2,-5) #otra forma de modificar el valor\n",
        "print(a)"
      ],
      "execution_count": null,
      "outputs": []
    },
    {
      "cell_type": "markdown",
      "metadata": {
        "id": "852UGX92cD0w"
      },
      "source": [
        "Podemos **ordenar** los valores de manera ascendente mediante la función **sort**. Observa el siguiente código donde creamos un array, lo ordenamos y el resultado lo asignamos a otro array:"
      ]
    },
    {
      "cell_type": "code",
      "metadata": {
        "id": "3JD95l3wcJWo"
      },
      "source": [
        "a = np.array([5, 7, 2, 1, 8, 4])\n",
        "b = np.sort(a)\n",
        "print(b)"
      ],
      "execution_count": null,
      "outputs": []
    },
    {
      "cell_type": "markdown",
      "metadata": {
        "id": "Dsk2s5CHdxoa"
      },
      "source": [
        "## 1.2 Operaciones con arrays"
      ]
    },
    {
      "cell_type": "markdown",
      "metadata": {
        "id": "iFwwuyQmd27X"
      },
      "source": [
        "Una vez ya tenemos arrays creados, podemos realizar operaciones básicas con estos arrays. Si tenemos dos arrays, podemos realizar operaciones **aritméticas** como sumarlos:"
      ]
    },
    {
      "cell_type": "code",
      "metadata": {
        "id": "neitNldoeQtP"
      },
      "source": [
        "a = np.array([10, 11, 12, 13, 14])\n",
        "b = np.arange(5)\n",
        "c = a + b\n",
        "print(c)"
      ],
      "execution_count": null,
      "outputs": []
    },
    {
      "cell_type": "markdown",
      "metadata": {
        "id": "dp_R349sehj5"
      },
      "source": [
        "También podemos ejecutar operaciones entre **un array y un escalar**, como una multiplicación:"
      ]
    },
    {
      "cell_type": "code",
      "metadata": {
        "id": "OlXvElPlepnH"
      },
      "source": [
        "a = np.array([10, 11, 12, 13, 14])\n",
        "b = a * 2\n",
        "print(b)"
      ],
      "execution_count": null,
      "outputs": []
    },
    {
      "cell_type": "markdown",
      "metadata": {
        "id": "NwfdY2aAe1FB"
      },
      "source": [
        "Numpy nos permite utilizar **expresiones condicionales** para encontrar valores que cumplan un determinado criterio:"
      ]
    },
    {
      "cell_type": "code",
      "metadata": {
        "id": "1GHttTpHfIaY"
      },
      "source": [
        "a = np.array([10, 11, 12, 13, 14])\n",
        "b = a >= 12\n",
        "print(b)"
      ],
      "execution_count": null,
      "outputs": []
    },
    {
      "cell_type": "markdown",
      "metadata": {
        "id": "U9etnXijfbSA"
      },
      "source": [
        "Como ves, esto devuelve un array de booleans de la misma dimensión que el original. Podemos pasar este array al array original para recuperar los valores exactos:"
      ]
    },
    {
      "cell_type": "code",
      "metadata": {
        "id": "TFx7-oPBf5yk"
      },
      "source": [
        "a = np.array([10, 11, 12, 13, 14])\n",
        "b = a >= 12\n",
        "c = a[b] #guardamos los números que cumplen la condición\n",
        "print(c)"
      ],
      "execution_count": null,
      "outputs": []
    },
    {
      "cell_type": "markdown",
      "metadata": {
        "id": "C2f4n7hrgJFR"
      },
      "source": [
        "Evidentemente, esto también lo podemos hacer directamente:"
      ]
    },
    {
      "cell_type": "code",
      "metadata": {
        "id": "_QPIWMPQgLlY"
      },
      "source": [
        "a = np.array([10, 11, 12, 13, 14])\n",
        "c = a[a >= 12]\n",
        "print(c)"
      ],
      "execution_count": null,
      "outputs": []
    },
    {
      "cell_type": "markdown",
      "metadata": {
        "id": "51Ex_2KbgVkB"
      },
      "source": [
        "También podemos hacer operaciones con Numpy arrays de **2 dimensiones**, como operaciones aritméticas:"
      ]
    },
    {
      "cell_type": "code",
      "metadata": {
        "id": "YP6rTGeST2ev"
      },
      "source": [
        "a = np.array([[3,2],[0,1]])\n",
        "b = np.array([[3,1],[2,1]])\n",
        "c = a + b\n",
        "print(c)"
      ],
      "execution_count": null,
      "outputs": []
    },
    {
      "cell_type": "markdown",
      "metadata": {
        "id": "sr2X0X7_hV10"
      },
      "source": [
        "También podemos realizar operaciones utilizando operadores como `+=`:"
      ]
    },
    {
      "cell_type": "code",
      "metadata": {
        "id": "4HVwn9TAhcyh"
      },
      "source": [
        "a = np.array([[3,2],[0,1]])\n",
        "a+=1\n",
        "print(a)"
      ],
      "execution_count": null,
      "outputs": []
    },
    {
      "cell_type": "markdown",
      "metadata": {
        "id": "jCQNpCZ_hkUC"
      },
      "source": [
        "Para realizar una **multiplicación de matrices** debemos utilizar el operador `@`:"
      ]
    },
    {
      "cell_type": "code",
      "metadata": {
        "id": "ilahhi-ghrGK"
      },
      "source": [
        "a = np.array([[3,2],[0,1]])\n",
        "b = np.array([[3,1],[2,1]])\n",
        "c = a @ b\n",
        "print(c)"
      ],
      "execution_count": null,
      "outputs": []
    },
    {
      "cell_type": "markdown",
      "metadata": {
        "id": "-bT82m2lhzQp"
      },
      "source": [
        "También podemos utilizar funciones básicas de Python sobre un array, como **sum**, **max** o **min**:"
      ]
    },
    {
      "cell_type": "code",
      "metadata": {
        "id": "CY12TCG5jGhZ"
      },
      "source": [
        "a = np.array([10, 11, 12, 13, 14])\n",
        "print(a.sum())\n",
        "print(a.max())\n",
        "print(a.min())"
      ],
      "execution_count": null,
      "outputs": []
    },
    {
      "cell_type": "markdown",
      "metadata": {
        "id": "mKpDVzT1YNl0"
      },
      "source": [
        "## 1.3 Indexing y slicing"
      ]
    },
    {
      "cell_type": "markdown",
      "metadata": {
        "id": "MqxNv_Qdjxqa"
      },
      "source": [
        "Dos de las operaciones más comunes que podemos utilizar con arrays Numpy son **indexing** y **slicing**. Estas operaciones son necesarias para trabajar con subconjuntos del array.\n",
        "\n",
        "La operación de **indexing** nos permite acceder a **un elemento** del array a través de su posición (índice), tanto en arrays unidimensionales como bidimensionales:"
      ]
    },
    {
      "cell_type": "code",
      "metadata": {
        "id": "c0ple6h6kPPS"
      },
      "source": [
        "a = np.array([10, 11, 12, 13, 14])\n",
        "print(a[2])\n",
        "\n",
        "a = np.array([[10, 11, 12, 13, 14], [1, 2, 3, 4, 5]])\n",
        "print(a[0][2])"
      ],
      "execution_count": null,
      "outputs": []
    },
    {
      "cell_type": "markdown",
      "metadata": {
        "id": "ybLHQvvFlVoE"
      },
      "source": [
        "Si lo que queremos es acceder a un **conjunto de elementos** del array, entonces debemos utilizar **slicing**. Este tipo de operaciones son similares a las que vimos cuando trabajamos con strings. Por ejemplo, a continuación puedes ver un array del cual extraemos los valores desde la posición **2 hasta la 4** (no incluida). Observa como lo que te devuelve la operación también es un **ndarray**:"
      ]
    },
    {
      "cell_type": "code",
      "metadata": {
        "id": "wW1WKZDOlthd"
      },
      "source": [
        "a = np.array([10, 11, 12, 13, 14])\n",
        "print(a[2:4])\n",
        "print(type(a[2:4]))"
      ],
      "execution_count": null,
      "outputs": []
    },
    {
      "cell_type": "markdown",
      "metadata": {
        "id": "UjoJkWbLmKiS"
      },
      "source": [
        "A continuación tienes varios ejemplos de **slicing**:"
      ]
    },
    {
      "cell_type": "code",
      "metadata": {
        "id": "tFhneqR9mSHN"
      },
      "source": [
        "a = np.array([10, 11, 12, 13, 14])\n",
        "print(a[2:4]) #desde la posición 2 a la 4 (no incluida)\n",
        "print(a[:]) #si no especificamos índices, obtenemos todos los valores\n",
        "print(a[2:]) #desde la posición 2 hasta el final\n",
        "print(a[:4]) #desde el principio hasta la 4 (no incluida)"
      ],
      "execution_count": null,
      "outputs": []
    },
    {
      "cell_type": "markdown",
      "metadata": {
        "id": "3cZnJa39nCCi"
      },
      "source": [
        "Recuerda también que al igual que vimos con strings y listas, también podemos utilizar **índices negativos**, donde el índice -1 hace referencia al último número del array:\n",
        "\n",
        "<figure style=\"text-align:center\">\n",
        "  <center>\n",
        "  <img width = \"30%\" src=\"https://s3imagenes.s3-us-west-2.amazonaws.com/index_array.png\"/>\n",
        "  <figcaption align=\"center\">Índices de un array</figcaption>\n",
        "  </center>\n",
        "</figure>\n",
        "\n",
        "A continuación, tienes algunos ejemplos:"
      ]
    },
    {
      "cell_type": "code",
      "metadata": {
        "id": "Y_-VbzvXoYpy"
      },
      "source": [
        "a = np.array([10, 11, 12, 13, 14])\n",
        "print(a[-3]) #el de la posición 3 empezando por el final\n",
        "print(a[1:-2]) #desde la posición 1 a la -2 (no incluida)\n",
        "print(a[-4:-2]) #desde la posición -4 a la -2 (no incluida)"
      ],
      "execution_count": null,
      "outputs": []
    },
    {
      "cell_type": "markdown",
      "metadata": {
        "id": "zuNUT89MtPEh"
      },
      "source": [
        "También podemos utilizar **steps** para saltarnos algunos elementos en la operación de slicing. En el siguiente ejemplo, el valor 3 indica que nos saltaremos 3 elementos después de cada selección. Si no le pasamos steps, se considera 1:"
      ]
    },
    {
      "cell_type": "code",
      "metadata": {
        "id": "_o-Fw15ctyJj"
      },
      "source": [
        "a = np.array([10, 11, 12, 13, 14, 15, 16, 17, 18, 19])\n",
        "print(a[2:7:3]) #de la posición 2 hasta la 7 (no incluida) pero de 3 en 3"
      ],
      "execution_count": null,
      "outputs": []
    },
    {
      "cell_type": "markdown",
      "metadata": {
        "id": "RBcvOllBuwgV"
      },
      "source": [
        "¿Y si hacemos `a[:7:3]`? pues devolvería desde el principio hasta la posición 7 (no incluida) pero de 3 en 3."
      ]
    },
    {
      "cell_type": "markdown",
      "metadata": {
        "id": "PUxq6tOXvFQu"
      },
      "source": [
        "El **slicing en arrays bidimensionales** es similar al slicing de arrays unidimensionales pero utilizando una coma para separar el slice de las filas y las columnas:"
      ]
    },
    {
      "cell_type": "code",
      "metadata": {
        "id": "JxnDpf83vUkN"
      },
      "source": [
        "a = np.array([[ 0,  1,  2,  3, 4],\n",
        "              [ 5,  6,  7,  8, 9],\n",
        "              [ 10, 11, 12, 13, 14],\n",
        "              [ 15, 16, 17, 18, 19],\n",
        "              [ 20, 21, 22, 23, 24]])\n",
        "\n",
        "print(a[0:2, 1:3]) #desde la fila 0 a la 2 (no incluida), y desde la columna 1 a la 3 (no incluida)\n",
        "print(a[1, 1:5]) #de la fila 1 las columnas de la 1 a la 5 (no incluida)\n",
        "print(a[:, :1]) #todas las filas y de las columnas, desde el principio hasta la 1 (no incluida)\n",
        "print(a[::4, ::4]) #todas las filas y todas las columnas pero saltando de 4 en 4"
      ],
      "execution_count": null,
      "outputs": []
    },
    {
      "cell_type": "markdown",
      "metadata": {
        "id": "gFrWE865VACM"
      },
      "source": [
        "## 1.4 Ejercicios"
      ]
    },
    {
      "cell_type": "markdown",
      "metadata": {
        "id": "u-i-x5teVB5k"
      },
      "source": [
        "Realiza los siguientes ejercicios para practicar lo que has visto:\n",
        "\n",
        "1. Crea una matriz de 5x5 con los valores de 10 a 34.\n",
        "2. Crea una matriz de 10x10 con 1's en los bordes y 0's en el interior.\n",
        "3. Crea un array con los valores de 10 a 20 e inviértelos en un nuevo array.\n",
        "4. Crea una matriz de 8x8 con un patrón de tablero de ajedrez (0's y 1's).\n",
        "5. Crea un array con valores en grados centígrados y conviértelos a Fahrenheit. `fahrenheit = (celsius * 9/5) + 32`.\n"
      ]
    },
    {
      "cell_type": "markdown",
      "metadata": {
        "id": "jue6j5stxuCo"
      },
      "source": [
        "# 2 Matplotlib"
      ]
    },
    {
      "cell_type": "markdown",
      "metadata": {
        "id": "BopOC5zCyOBW"
      },
      "source": [
        "La librería **Matplotlib** es uno de los paquetes más importantes de Python para visualizar datos mediante gráficas. Esta librería también la utilizaremos en posteriores colabs, con lo que vamos a ver los fundamentos básicos de qué cosas podemos hacer: https://matplotlib.org/\n",
        "\n",
        "Si no tenemos instalada la librería, podemos instalarla dentro de nuestro entorno virtual mediante `pip install matplotlib`.\n",
        "\n",
        "La anatomía de una Figura de Matplotlib está formada por varios componentes:\n",
        "* **Figure** es la ventana donde se dibuja la gráfica. Todas las operaciones se llevan a cabo dentro de este componente.\n",
        "* **Axes** hace referencia al área dentro de la figura donde se dibuja la gráfica. Una misma figura puede contener varios axes, lo que nos permitiría dibujar varias gráficas dentro de la misma figura. \n",
        "* **X-Axis** y **Y-Axis** son los dos componentes que hay dentro del componente anterior y que hacen referencia a los ejes. \n",
        "* Dentro de cada axis, podemos encontrar **ticks**, las **posiciones de los ticks** y las **labels**.\n",
        "* **Line plot** es el dibujo en forma de línea o curva que sigue una distribución de puntos que son dibujados.\n",
        "* Podemos poner un título (**title**) asociado a cada axe. \n",
        "* Si tenemos varias líneas dibujadas, también podemos poner una leyenda (**legend**) que explique a qué corresponde cada línea dibujada."
      ]
    },
    {
      "cell_type": "markdown",
      "metadata": {
        "id": "Eo6m3sIA7hZi"
      },
      "source": [
        "## 2.1 Dibujando gráficas"
      ]
    },
    {
      "cell_type": "markdown",
      "metadata": {
        "id": "rKTSyNvd5s0O"
      },
      "source": [
        "Vamos a empezar dibujando una gráfica simple mediante la función **plot**. Esta función recibe dos listas: la primera tiene las coordenadas X y la segunda tiene las coordendas Y, y construye la gráfica. Después, la función **show** muestra la gráfica."
      ]
    },
    {
      "cell_type": "code",
      "metadata": {
        "id": "UrInKHxx5AZq"
      },
      "source": [
        "from matplotlib import pyplot as plt\n",
        "\n",
        "plt.plot([5, 10, 15, 20],\n",
        "         [4, 6, 8 ,10])\n",
        "plt.show() "
      ],
      "execution_count": null,
      "outputs": []
    },
    {
      "cell_type": "markdown",
      "metadata": {
        "id": "nqyKpmF67mfh"
      },
      "source": [
        "Si queremos cambiar el **color** de la línea que se dibuja, podemos utilizar el parámetro **color**:"
      ]
    },
    {
      "cell_type": "code",
      "metadata": {
        "id": "H_KKIxe77r0D"
      },
      "source": [
        "from matplotlib import pyplot as plt\n",
        "\n",
        "plt.plot([5, 10, 15, 20],\n",
        "         [4, 6, 8 ,10],\n",
        "         color=\"red\")\n",
        "plt.show() "
      ],
      "execution_count": null,
      "outputs": []
    },
    {
      "cell_type": "markdown",
      "metadata": {
        "id": "KDzRZt_78Ajw"
      },
      "source": [
        "También podemos poner las **labels** de los ejes mediante las funciones **xlabel** y **ylabel**:"
      ]
    },
    {
      "cell_type": "code",
      "metadata": {
        "id": "uI0FoQRn8GJw"
      },
      "source": [
        "from matplotlib import pyplot as plt\n",
        "\n",
        "plt.plot([5, 10, 15, 20],\n",
        "         [4, 6, 8 ,10],\n",
        "         color=\"red\")\n",
        "\n",
        "plt.xlabel('Datos', fontsize=20, color='blue')\n",
        "plt.ylabel('Valores', fontsize=20, color='blue')\n",
        "plt.show() "
      ],
      "execution_count": null,
      "outputs": []
    },
    {
      "cell_type": "markdown",
      "metadata": {
        "id": "RtiiiO6R801A"
      },
      "source": [
        "Matplotlib también nos permite configurar los parámetros de los **ticks** de los ejes:"
      ]
    },
    {
      "cell_type": "code",
      "metadata": {
        "id": "BOyMXNK58-OL"
      },
      "source": [
        "from matplotlib import pyplot as plt\n",
        "\n",
        "plt.plot([5, 10, 15, 20],\n",
        "         [4, 6, 8 ,10],\n",
        "         color=\"red\")\n",
        "\n",
        "plt.xlabel('Datos', fontsize=20, color='blue')\n",
        "plt.ylabel('Valores', fontsize=20, color='blue')\n",
        "\n",
        "plt.tick_params(axis='x', color='red', labelcolor='green', labelsize='xx-large')\n",
        "plt.show() "
      ],
      "execution_count": null,
      "outputs": []
    },
    {
      "cell_type": "markdown",
      "metadata": {
        "id": "5z8Fmcb09ikw"
      },
      "source": [
        "Vamos a ver cómo podemos poner una **leyenda** a la figura:"
      ]
    },
    {
      "cell_type": "code",
      "metadata": {
        "id": "-8yxM-Cp9jt_"
      },
      "source": [
        "from matplotlib import pyplot as plt\n",
        "\n",
        "plt.plot([5, 10, 15, 20],\n",
        "         [4, 6, 8 ,10],\n",
        "         color=\"red\",\n",
        "         label=\"leyenda\") #esto sería el texto de la leyenda\n",
        "\n",
        "plt.xlabel('Datos', fontsize=20, color='blue')\n",
        "plt.ylabel('Valores', fontsize=20, color='blue')\n",
        "\n",
        "plt.tick_params(axis='x', color='red', labelcolor='green', labelsize='xx-large')\n",
        "\n",
        "plt.legend() #imprimimos también la leyenda\n",
        "plt.show() "
      ],
      "execution_count": null,
      "outputs": []
    },
    {
      "cell_type": "markdown",
      "metadata": {
        "id": "cCZQn3sY9-XR"
      },
      "source": [
        "A parte de la leyenda, también podemos poner un **título**:"
      ]
    },
    {
      "cell_type": "code",
      "metadata": {
        "id": "Q9dIZZWJ-DCC"
      },
      "source": [
        "from matplotlib import pyplot as plt\n",
        "\n",
        "plt.plot([5, 10, 15, 20],\n",
        "         [4, 6, 8 ,10],\n",
        "         color=\"red\",\n",
        "         label=\"leyenda\") \n",
        "\n",
        "plt.xlabel('Datos', fontsize=20, color='blue')\n",
        "plt.ylabel('Valores', fontsize=20, color='blue')\n",
        "\n",
        "plt.tick_params(axis='x', color='red', labelcolor='green', labelsize='xx-large')\n",
        "\n",
        "plt.legend() \n",
        "\n",
        "plt.title(\"Título de la gráfica\") #aquí ponemos el título\n",
        "plt.show() "
      ],
      "execution_count": null,
      "outputs": []
    },
    {
      "cell_type": "markdown",
      "metadata": {
        "id": "HWL94VxK-MsD"
      },
      "source": [
        "Podemos poner un límite hasta dónde queremos pintar en los ejes mediante las funciones **xlim** e **ylim**:"
      ]
    },
    {
      "cell_type": "code",
      "metadata": {
        "id": "kUYLcBfX-UH5"
      },
      "source": [
        "from matplotlib import pyplot as plt\n",
        "\n",
        "plt.plot([5, 10, 15, 20],\n",
        "         [4, 6, 8 ,10],\n",
        "         color=\"red\",\n",
        "         label=\"leyenda\") \n",
        "\n",
        "plt.xlabel('Datos', fontsize=20, color='blue')\n",
        "plt.ylabel('Valores', fontsize=20, color='blue')\n",
        "\n",
        "plt.tick_params(axis='x', color='red', labelcolor='green', labelsize='xx-large')\n",
        "\n",
        "plt.legend() \n",
        "\n",
        "plt.title(\"Título de la gráfica\") #aquí ponemos el título\n",
        "\n",
        "plt.xlim(0, 15) #queremos que el eje X vaya de 0 a 15\n",
        "plt.show() "
      ],
      "execution_count": null,
      "outputs": []
    },
    {
      "cell_type": "markdown",
      "metadata": {
        "id": "Cem1VU0g_JT7"
      },
      "source": [
        "## 2.2 Líneas y marcadores"
      ]
    },
    {
      "cell_type": "markdown",
      "metadata": {
        "id": "AAkY4Av6_Hu7"
      },
      "source": [
        "Podemos pintar varias gráficas en la misma figura simplemente realizando un **plot** por cada línea que queremos dibujar:"
      ]
    },
    {
      "cell_type": "code",
      "metadata": {
        "id": "8zjEvsEf_Sni"
      },
      "source": [
        "from matplotlib import pyplot as plt\n",
        "\n",
        "plt.plot([5, 10, 15, 20],\n",
        "         [4, 6, 8 ,10],\n",
        "         color=\"red\",\n",
        "         label=\"gráfica roja\") \n",
        "\n",
        "plt.plot([1, 5, 9, 13],\n",
        "         [3, 6, 9 , 12],\n",
        "         color=\"blue\",\n",
        "         label=\"gráfica azul\") \n",
        "\n",
        "plt.legend() \n",
        "\n",
        "plt.title(\"Título de la gráfica\") \n",
        "\n",
        "plt.show() "
      ],
      "execution_count": null,
      "outputs": []
    },
    {
      "cell_type": "markdown",
      "metadata": {
        "id": "bqijOmDr_wxb"
      },
      "source": [
        "Como puedes observar, el dibujo por defecto es una **línea**, pero podemos utilizar otros estilos mediante el parámetro **linestyle**. Tabién podemos configurar otras opciones como el ancho de la línea mediante el parámetro **linewidth**. A continuación, puedes ver un ejemplo:"
      ]
    },
    {
      "cell_type": "code",
      "metadata": {
        "id": "7N7wCAsB_5Ab"
      },
      "source": [
        "from matplotlib import pyplot as plt\n",
        "\n",
        "plt.plot([5, 10, 15, 20],\n",
        "         [4, 6, 8 ,10],\n",
        "         color=\"red\",\n",
        "         label=\"gráfica roja\",\n",
        "         linestyle=':') #este sería el estilo de línea de puntos\n",
        "\n",
        "plt.plot([1, 5, 9, 13],\n",
        "         [3, 6, 9 , 12],\n",
        "         color=\"blue\",\n",
        "         label=\"gráfica azul\",\n",
        "         linestyle='--', #este sería el estilo de línea discontinua\n",
        "         linewidth=3) #línea con grosor 3\n",
        "\n",
        "plt.legend() \n",
        "\n",
        "plt.title(\"Título de la gráfica\") \n",
        "\n",
        "plt.show() "
      ],
      "execution_count": null,
      "outputs": []
    },
    {
      "cell_type": "markdown",
      "metadata": {
        "id": "kwYRP4mlAwas"
      },
      "source": [
        "También podemos configurar los **marcadores** de cada punto. Por defecto, los puntos no aparecen marcados, pero podemos asociarles algún marcador mediante el atributo **marker**. También podemos utilizar el **markersize** para definir su tamaño. Si queremos dibujar únicamente los marcadores sin ninguna línea, podemos poner el valor **None** en **linestyle**:"
      ]
    },
    {
      "cell_type": "code",
      "metadata": {
        "id": "1KjiGMwLA68i"
      },
      "source": [
        "from matplotlib import pyplot as plt\n",
        "\n",
        "plt.plot([5, 10, 15, 20],\n",
        "         [4, 6, 8 ,10],\n",
        "         color=\"red\",\n",
        "         label=\"gráfica roja\",\n",
        "         marker=\"d\", #este es un marcador en forma de diamante\n",
        "         markersize=10) #esta sería la anchura. Por defecto es 6\n",
        "\n",
        "plt.plot([1, 5, 9, 13],\n",
        "         [3, 6, 9 , 12],\n",
        "         color=\"blue\",\n",
        "         label=\"gráfica azul\",\n",
        "         marker=\"o\", #este es un marcador en forma de círculo\n",
        "         linestyle=\"None\") #no queremos dibujar la línea\n",
        "\n",
        "plt.legend() \n",
        "\n",
        "plt.title(\"Título de la gráfica\") \n",
        "\n",
        "plt.show() "
      ],
      "execution_count": null,
      "outputs": []
    },
    {
      "cell_type": "code",
      "metadata": {
        "id": "0yiNxWHHFaRN"
      },
      "source": [
        "from matplotlib import pyplot as plt\n",
        "\n",
        "plt.plot(np.array([[5, 10],\n",
        "                   [4, 6],\n",
        "                   [3, 12],\n",
        "                   [6, 11]\n",
        "                   ])) #esta sería la anchura. Por defecto es 6\n",
        "\n",
        "plt.plot([1, 5, 9, 13],\n",
        "         [3, 6, 9 , 12],\n",
        "         color=\"blue\",\n",
        "         label=\"gráfica azul\",\n",
        "         marker=\"o\", #este es un marcador en forma de círculo\n",
        "         linestyle=\"None\") #no queremos dibujar la línea\n",
        "\n",
        "plt.legend() \n",
        "\n",
        "plt.title(\"Título de la gráfica\") \n",
        "\n",
        "plt.show() "
      ],
      "execution_count": null,
      "outputs": []
    }
  ]
}