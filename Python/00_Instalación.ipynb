{
  "nbformat": 4,
  "nbformat_minor": 0,
  "metadata": {
    "colab": {
      "name": "00-Instalación.ipynb",
      "provenance": [],
      "toc_visible": true
    },
    "kernelspec": {
      "name": "python3",
      "display_name": "Python 3"
    },
    "language_info": {
      "name": "python"
    }
  },
  "cells": [
    {
      "cell_type": "markdown",
      "source": [
        "**NOTA**: Si detectas algún error en este Colab, alguna particularidad que haya que instalar, etc. Pon un mensaje en el foro para que lo podamos solucionar o envía un correo."
      ],
      "metadata": {
        "id": "1H66kHdNDFw6"
      }
    },
    {
      "cell_type": "markdown",
      "source": [
        "# 1 Entorno de trabajo para las prácticas"
      ],
      "metadata": {
        "id": "WEmmX7ZwohdT"
      }
    },
    {
      "cell_type": "markdown",
      "source": [
        "En esta asignatura vamos a trabajar con una máquina **Ubuntu 20.04**. Para ello, tienes dos opciones. La **primera** es utilizar una máquina de Polilabs que encontrarás disponible en la siguiente dirección:\n",
        "https://polilabs.upv.es/\n",
        "\n",
        "Entrando con tu usuario y contraseña, deberás hacer clic en la máquina **EPSG Linux**, la cual te abrirá ya el sistema operativo. Ten en cuenta que los cambios que realices en esta máquina no se guardarán de una sesión a otra, por lo que todo lo que quieras que se guarde, lo deberás guardar en `$HOME/W`. \n",
        "\n",
        "La **segunda** opción es crear una máquina virtual en tu ordenador, bien instalada nativamente o bien utilizando un software de virtualización (como Virtualbox o VMWare). Aunque la mayoría del trabajo lo puedes realizar en Polilabs, se **recomienda al 100%** tener también una máquina local. Entre otras cosas, la máquina local será necesaria para trabajar con el robot físico.\n",
        "\n",
        "En las siguientes secciones se explica los pasos para instalar todo lo necesario en una máquina local. Estos pasos **NO** deberías hacerlos en la máquina de Polilabs."
      ],
      "metadata": {
        "id": "DOB3XRfQordo"
      }
    },
    {
      "cell_type": "markdown",
      "source": [
        "# 2 Preparación de la máquina local (virtual)"
      ],
      "metadata": {
        "id": "3GfEQtpc3g1i"
      }
    },
    {
      "cell_type": "markdown",
      "source": [
        "En nuestro caso partiremos de una máquina virtual en Virtualbox, aunque podrías utilizar otro software e incluso instalarla nativamente. En concreto, disponemos de unos requisitos de **2048 MB** de memoria RAM y un disco de **25 GB**. Le ponemos también 1 CPU aunque si es posible, mejor 2.\n",
        "\n",
        "A continuación, descargamos un Ubuntu 20.04 desktop y lo instalamos en esta máquina: https://ubuntu.com/download/desktop\n",
        "\n",
        "Ten en cuenta que cuando arrancas la máquina virtual por primera vez, deberás especificar dónde está la ISO para arrancar la instalación.\n",
        "\n",
        "Una vez terminada la instalación, aunque tiene ya pantalla completa, instalamos también **Guest additions** para que nos deje hacer portapapeles bidireccional. Para ello, una vez logueados dentro de Ubuntu hacemos clic en el menú superior de Virtualbox **Dispositivos** y después en **Insertar imagen de CD de las Guest Additions**. \n",
        "\n",
        "Siguiendo las instrucciones y una vez reiniciada la máquina, podemos hacer clic en **Dispositivos > Portapapeles compartido > Bidireccional**. Para poder copiar y pegar código entre la máquina host y la virtual.\n",
        "\n",
        "**NOTA**: si la pantalla inicial se queda negra, hay que minimizar a pantalla pequeña y cuando entra en escritorio, ya funciona correctamente. "
      ],
      "metadata": {
        "id": "EFc8syQ5oAU6"
      }
    },
    {
      "cell_type": "markdown",
      "source": [
        "Instalamos git y **opcionalmente** el editor emacs (aunque puedes utilizar otro como nano, vi, etc.):"
      ],
      "metadata": {
        "id": "U_AZpiu_19dF"
      }
    },
    {
      "cell_type": "code",
      "source": [
        "sudo apt install git\n",
        "sudo apt install emacs"
      ],
      "metadata": {
        "id": "TUQXRIHV1-Yk"
      },
      "execution_count": null,
      "outputs": []
    },
    {
      "cell_type": "markdown",
      "source": [
        "# 3 Añadir repositorio de ROS2"
      ],
      "metadata": {
        "id": "SGw25HCS3lY6"
      }
    },
    {
      "cell_type": "markdown",
      "source": [
        "Ahora vamos a instalar ROS2. El primer paso es añadir el repositorio de ROS2:"
      ],
      "metadata": {
        "id": "styy2ijeyK2-"
      }
    },
    {
      "cell_type": "code",
      "source": [
        "#autorizar la clave GPG de ROS\n",
        "sudo apt update && sudo apt install curl gnupg2 lsb-release\n",
        "sudo curl -sSL https://raw.githubusercontent.com/ros/rosdistro/master/ros.key  -o /usr/share/keyrings/ros-archive-keyring.gpg"
      ],
      "metadata": {
        "id": "KRVSi4cryOQd"
      },
      "execution_count": null,
      "outputs": []
    },
    {
      "cell_type": "code",
      "source": [
        "#añadir el repositorio\n",
        "echo \"deb [arch=$(dpkg --print-architecture) signed-by=/usr/share/keyrings/ros-archive-keyring.gpg] http://packages.ros.org/ros2/ubuntu $(source /etc/os-release && echo $UBUNTU_CODENAME) main\" | sudo tee /etc/apt/sources.list.d/ros2.list > /dev/null"
      ],
      "metadata": {
        "id": "s0nQSH7SyhB8"
      },
      "execution_count": null,
      "outputs": []
    },
    {
      "cell_type": "markdown",
      "source": [
        "# 4 Instalación basada en paquetes"
      ],
      "metadata": {
        "id": "H4mKLxaG3udR"
      }
    },
    {
      "cell_type": "markdown",
      "source": [
        "En primer lugar, actualizamos la cache de repositorios e instalamos el desktop **Foxy** (recomendado). Instala ROS, RViz, demos y tutoriales:"
      ],
      "metadata": {
        "id": "5bjqUwe73wiS"
      }
    },
    {
      "cell_type": "code",
      "source": [
        "sudo apt update \n",
        "sudo apt install ros-foxy-desktop"
      ],
      "metadata": {
        "id": "9bZZP6g8yeD0"
      },
      "execution_count": null,
      "outputs": []
    },
    {
      "cell_type": "markdown",
      "source": [
        "Esto instala más de 900 paquetes. Como **alternativa** se puede instalar solo la base, pero no hay herramientas GUI. Instala bibliotecas de comunicación, paquetes de mensajes y órdenes de línea de comandos:\n",
        "\n",
        "`sudo apt install ros-foxy-ros-base`"
      ],
      "metadata": {
        "id": "HIBDkxaB39iL"
      }
    },
    {
      "cell_type": "markdown",
      "source": [
        "Instalamos también el compilador **colcon**:"
      ],
      "metadata": {
        "id": "2VQs7PhzqyDZ"
      }
    },
    {
      "cell_type": "code",
      "source": [
        "sudo apt-get install python3-colcon-common-extensions"
      ],
      "metadata": {
        "id": "JnzZSL-Qq1F9"
      },
      "execution_count": null,
      "outputs": []
    },
    {
      "cell_type": "markdown",
      "source": [
        "# 5 Configuración del entorno"
      ],
      "metadata": {
        "id": "6tVR5jOT4GnS"
      }
    },
    {
      "cell_type": "code",
      "source": [
        "source /opt/ros/foxy/setup.bash"
      ],
      "metadata": {
        "id": "cXrPHXyhziEk"
      },
      "execution_count": null,
      "outputs": []
    },
    {
      "cell_type": "markdown",
      "source": [
        "**Opcionalmente**, podemos instalar `argcomplete` para autocompletar desde la línea de comandos:\n",
        "`sudo apt install -y python3-argcomplete`"
      ],
      "metadata": {
        "id": "IiMEAWLM4QDJ"
      }
    },
    {
      "cell_type": "markdown",
      "source": [
        "# 6 Ejemplos para probar"
      ],
      "metadata": {
        "id": "NBYcn1S94XoZ"
      }
    },
    {
      "cell_type": "markdown",
      "source": [
        "A continuación ejecutaremos un productor que crearán mensajes y un consumidor que leerá los mensajes emitidos:"
      ],
      "metadata": {
        "id": "FzDfP5B44dKq"
      }
    },
    {
      "cell_type": "code",
      "source": [
        "#terminal 1\n",
        "ros2 run demo_nodes_cpp talker\n",
        "\n",
        "#terminal 2\n",
        "source /opt/ros/foxy/setup.bash\n",
        "ros2 run demo_nodes_py listener"
      ],
      "metadata": {
        "id": "X9LzIfzzzjCy"
      },
      "execution_count": null,
      "outputs": []
    },
    {
      "cell_type": "markdown",
      "source": [
        "Debería verse que el **talker** indica que está publicando mensajes y al **listener** que los está escuchando. De esta manera, se prueban las API C++ y Python al mismo tiempo."
      ],
      "metadata": {
        "id": "833pEyoy4ml5"
      }
    },
    {
      "cell_type": "markdown",
      "source": [
        "# 7 Siguientes pasos"
      ],
      "metadata": {
        "id": "XIEzXvrq4vAy"
      }
    },
    {
      "cell_type": "markdown",
      "source": [
        "Tras instalar ROS2,  hay que incluir los paquetes que se detallan en\n",
        "https://emanual.robotis.com/docs/en/platform/turtlebot3/quick-start/\n",
        "\n",
        "En esta URL también explica cómo instalar Ubuntu y cómo instalar ROS2 sobre Ubuntu. **Importante**: Hay que seleccionar **Foxy** en la parte superior de la página.\n",
        "\n",
        "A continuación, se resumen los paquetes a instalar:"
      ],
      "metadata": {
        "id": "DbIt2ize40bB"
      }
    },
    {
      "cell_type": "code",
      "source": [
        "#gazebo 11\n",
        "sudo apt-get install ros-foxy-gazebo-*\n",
        "\n",
        "#cartographer \n",
        "sudo apt install ros-foxy-cartographer ros-foxy-cartographer-ros\n",
        "\n",
        "#navigation 2\n",
        "sudo apt install ros-foxy-navigation2 ros-foxy-nav2-bringup\n",
        "\n",
        "#turtlebot 3\n",
        "source ~/.bashrc\n",
        "sudo apt install ros-foxy-dynamixel-sdk ros-foxy-turtlebot3-msgs ros-foxy-turtlebot3\n",
        "\n",
        "#configuración del entorno\n",
        "echo 'export ROS_DOMAIN_ID=30 #TURTLEBOT3' >> ~/.bashrc\n",
        "source ~/.bashrc"
      ],
      "metadata": {
        "id": "uzqvFAtBx0oG"
      },
      "execution_count": null,
      "outputs": []
    },
    {
      "cell_type": "markdown",
      "source": [
        "Para facilitar las cosas al usuario y que no tenga que configurar la variable **ROS_DOMAIN** cada vez que se conecte al sistema (lo configurado en ~/.bashrc se pierde cuando se restaure una máquina virtual) se crea un fichero `/usr/local/bin/foxy` para que el usuario ejecute simplemente `source foxy` con el siguiente contenido:"
      ],
      "metadata": {
        "id": "rdHr-LvU08S1"
      }
    },
    {
      "cell_type": "code",
      "source": [
        "source /opt/ros/foxy/setup.sh\n",
        "export ROS_DOMAIN_ID=30 #TURTLEBOT3\n",
        "source /usr/share/gazebo/setup.sh"
      ],
      "metadata": {
        "id": "i7T9PjWD1EBr"
      },
      "execution_count": null,
      "outputs": []
    },
    {
      "cell_type": "markdown",
      "source": [
        "Y le damos permiso de ejecución para todos:"
      ],
      "metadata": {
        "id": "8JqnmxWE1GOC"
      }
    },
    {
      "cell_type": "code",
      "source": [
        "sudo chmod +x /usr/local/bin/foxy"
      ],
      "metadata": {
        "id": "zNNqpxW71MYy"
      },
      "execution_count": null,
      "outputs": []
    },
    {
      "cell_type": "markdown",
      "source": [
        "Ahora vamos a probar que todo funciona correctamente:"
      ],
      "metadata": {
        "id": "Wy51bNkh1iIa"
      }
    },
    {
      "cell_type": "code",
      "source": [
        "#terminal 1\n",
        "source foxy\n",
        "gazebo --verbose /opt/ros/foxy/share/gazebo_plugins/worlds/gazebo_ros_diff_drive_demo.world\n",
        "#en este punto aparecerá gazebo con un mundo y un vehículo\n",
        "\n",
        "#terminal 2\n",
        "source foxy\n",
        "ros2 topic pub /demo/cmd_demo geometry_msgs/Twist '{linear: {x: 1.0}}' -1\n",
        "#el vehículo empezará a moverse"
      ],
      "metadata": {
        "id": "GxK9e1dN1kKb"
      },
      "execution_count": null,
      "outputs": []
    }
  ]
}